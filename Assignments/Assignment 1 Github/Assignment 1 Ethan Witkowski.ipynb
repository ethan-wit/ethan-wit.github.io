{
 "cells": [
  {
   "cell_type": "markdown",
   "metadata": {},
   "source": [
    "# Assignment 1 - Clustering\n",
    "### Modeling & Optimization\n",
    "### Ethan Witkowski"
   ]
  },
  {
   "cell_type": "code",
   "execution_count": 65,
   "metadata": {},
   "outputs": [],
   "source": [
    "#Task 1\n",
    "#Implement k-means algorithm as a 'k-means' function\n",
    "#Refer to <http://vmls-book.stanford.edu/vmls.pdf> Chapter 4\n",
    "\n",
    "import numpy as np\n",
    "from sklearn.datasets.samples_generator import make_blobs\n",
    "import matplotlib.pyplot as plt \n",
    "import matplotlib.cm as mplcm\n",
    "import matplotlib.colors as colors\n",
    "from matplotlib.backends.backend_agg import FigureCanvasAgg as FigureCanvas\n",
    "from matplotlib.figure import Figure\n",
    "import matplotlib.animation as animation\n",
    "from IPython.display import HTML\n",
    "import pandas as pd"
   ]
  },
  {
   "cell_type": "code",
   "execution_count": 2,
   "metadata": {},
   "outputs": [],
   "source": [
    "#Initialize (1)\n",
    "\n",
    "def initialize(x):\n",
    "\n",
    "    z = np.array([])                               #Define empty representative vector z\n",
    "        \n",
    "        #Identify max/min values for each dimension\n",
    "        #Produce k random values within max/min range for each dimension (place in y)\n",
    "        #Concatenate random values (y) into representative vector z\n",
    "\n",
    "    for n in range(len(x[0])):                     #for each dimension in array [0]\n",
    "        xmin = x[0][n]                             #set element as min for dimension n\n",
    "        xmax = x[0][n]                             #set element as max for dimension n\n",
    "\n",
    "        for i in range(len(x)):                    #for each vector\n",
    "            if x[i][n] > xmax:                     #determine if element in dimension is greater than max\n",
    "                xmax = x[i][n]                     #if yes, set as max\n",
    "            if x[i][n] < xmin:                     #determine if element in dimension is smaller than min\n",
    "                xmin = x[i][n]                     #if yes, set as min\n",
    "        y = np.random.randint(xmin,xmax+1,k)       #produce k random integers between min and max for each dimension\n",
    "        z = np.concatenate((z,y),axis=0)           #concatenate to z\n",
    "\n",
    "    #Reshape z into correct representative vector format\n",
    "    z = np.reshape(z, (len(x[0]),k))\n",
    "    z = z.T\n",
    "\n",
    "    return z\n"
   ]
  },
  {
   "cell_type": "code",
   "execution_count": 3,
   "metadata": {},
   "outputs": [],
   "source": [
    "#Initialize (2)\n",
    "\n",
    "#Set each representative vector as the ith x vector\n",
    "\n",
    "def second_initialize(x):\n",
    "\n",
    "    z = []                   #Define empty representative vector z\n",
    "\n",
    "    for i in range(k):       #For each cluster\n",
    "        y = x[i]             #Holder variable is equal to ith x-vector\n",
    "        z.append(y)          #Append to variable z\n",
    "    \n",
    "    return z"
   ]
  },
  {
   "cell_type": "markdown",
   "metadata": {},
   "source": [
    "The second initialization type used is MacQueen's method.\n",
    "\n",
    "\"MacQueen (1967) proposed two different methods. The first\n",
    "one, which is the default option in the Quick Cluster procedure\n",
    "of IBM SPSS Statistics (Norušis, 2011), takes the first K points in\n",
    "X as the centers. An obvious drawback of this method is its sensitivity to data ordering.\"\n",
    "\n",
    "M. Emre Celebi, Hassan A. Kingravi, Patricio A. Vela, A comparative study of efficient initialization methods for the k-means clustering algorithm, Expert Systems with Applications, Volume 40, Issue 1, 2013.\n",
    "\n",
    "MacQueen, J. (1967). Some methods for classification and analysis of multivariate\n",
    "observations, In: Proc. of the 5th Berkeley symposium on mathematical statistics\n",
    "and probability (pp. 281–297).\n",
    "\n",
    "The primary method I chose to use is shown in the initalize(x) function. This method calculates the minimum and maximum value for each dimension, and assigns a random value to each dimension in each representative vector within this minimum/maximum range. This is a more effective initialization method, as it avoids ranking bias."
   ]
  },
  {
   "cell_type": "code",
   "execution_count": 4,
   "metadata": {},
   "outputs": [],
   "source": [
    "#Assign each x vector to a representative vector\n",
    "\n",
    "def cluster_min_distance(x,z):\n",
    "\n",
    "    #Create c vector\n",
    "\n",
    "    c = np.zeros(len(x))\n",
    "\n",
    "    for i, xvector in enumerate(x):                      #Access each vector in x\n",
    "        mindist = np.inf                                 #Initial minimum norm \n",
    "        zmin = z[0]                                      #Initial closest representative vector is first\n",
    "\n",
    "        for j, zvector in enumerate(z):                  #Index each vector in z\n",
    "            dist = np.linalg.norm(xvector - zvector)     #Calculate distance from z vector\n",
    "            if dist < mindist:\n",
    "                zmin = zvector                           #if minimum distance, define as zmin\n",
    "                mindist = dist                           #update minimum distance\n",
    "                c[i] = j                                 #assign c as index of minimum distance z vector\n",
    "    \n",
    "\n",
    "    return c\n"
   ]
  },
  {
   "cell_type": "code",
   "execution_count": 5,
   "metadata": {},
   "outputs": [],
   "source": [
    "#Reassign z vector as centroid of cluster\n",
    "\n",
    "def centroid_representatives(x,z,c):\n",
    "\n",
    "    clusters = []                                    #List that holds clusters\n",
    "\n",
    "    for i in range(k):                               #List that holds all vectors in each cluster\n",
    "        cluster = []\n",
    "\n",
    "        for j,xvector in enumerate(x):               #For all x vectors\n",
    "            if c[j] == i:                            #If index in c vector matches cluster\n",
    "                cluster.append(xvector)              #Assign x vector to cluster\n",
    "        clusters.append(cluster)                     #Assign cluster to list of clusters\n",
    "\n",
    "    clusters = np.array(clusters)\n",
    "\n",
    "    #Assign centroid of clustered vectors as new z vectors\n",
    "\n",
    "    for i, clustvectors in enumerate(clusters):      #For all cluster in cluster list\n",
    "\n",
    "        meanvector = np.mean(clustvectors,axis=0)    #Calculate mean/centroid of cluster\n",
    "        z[i] = meanvector                            #Assign mean as new z vector\n",
    "\n",
    "\n",
    "    return z, clusters"
   ]
  },
  {
   "cell_type": "code",
   "execution_count": 6,
   "metadata": {},
   "outputs": [],
   "source": [
    "#Calculate J_clust - (value to be minimized)\n",
    "\n",
    "def Jclust(clusters, z, x):\n",
    "    \n",
    "    J_clust = 0\n",
    "\n",
    "    for i in range(len(clusters)):                   #For each cluster\n",
    "        cluster = clusters[i]                        #Declare variable cluster as this iteration's cluster\n",
    "        J_clust_k = 0                                \n",
    "\n",
    "        for j, xvector in enumerate(cluster):        #For each vector in cluster\n",
    "            dist = np.linalg.norm(xvector - z[i])    #Declare dist as norm of distance bewteen vector and its representative\n",
    "            squared_dist = dist ** 2                 #Square dist\n",
    "            J_clust_k = J_clust_k + squared_dist     #Aggregate J_clust value for cluster\n",
    "\n",
    "        J_clust = J_clust + J_clust_k                #Aggregate J_clust of all clusters\n",
    "\n",
    "    J_clust = J_clust / len(x)                       #Divide J_clust by number of x vectors\n",
    "\n",
    "\n",
    "    return J_clust"
   ]
  },
  {
   "cell_type": "code",
   "execution_count": 7,
   "metadata": {},
   "outputs": [],
   "source": [
    "#k-means function\n",
    "\n",
    "def k_means(k,x):\n",
    "    \n",
    "    z = initialize(x)                                              #Initialize representative vectors\n",
    "\n",
    "    for i in range(20):                                            #Determine number of iterations algorithm runs\n",
    "        c = cluster_min_distance(x,z)                              #Cluster each x vector with closest z vector\n",
    "        z,cluster_vectors = centroid_representatives(x,z,c)        #Reassign representative vector of each cluster as centroid\n",
    "        J_c = Jclust(cluster_vectors, z, x)                        #Output J_clust value\n",
    "\n",
    "    return c,z,J_c \n"
   ]
  },
  {
   "cell_type": "code",
   "execution_count": 8,
   "metadata": {},
   "outputs": [],
   "source": [
    "#k-means function, second method of initialization\n",
    "\n",
    "def second_k_means(k,x):\n",
    "    \n",
    "    z = second_initialize(x)                                       #Initialize representative vectors\n",
    "\n",
    "    for i in range(20):                                            #Determine number of iterations algorithm runs\n",
    "        c = cluster_min_distance(x,z)                              #Cluster each x vector with closest z vector\n",
    "        z,cluster_vectors = centroid_representatives(x,z,c)        #Reassign representative vector of each cluster as centroid\n",
    "        J_c = Jclust(cluster_vectors, z, x)                        #Output J_clust value\n",
    "\n",
    "    return c,z,J_c "
   ]
  },
  {
   "cell_type": "code",
   "execution_count": 9,
   "metadata": {},
   "outputs": [
    {
     "name": "stdout",
     "output_type": "stream",
     "text": [
      "The number of clusters is 3\n",
      "\n"
     ]
    }
   ],
   "source": [
    "#Define number of clusters\n",
    "k = 3\n",
    "print(\"The number of clusters is \" + str(k) + \"\\n\")\n",
    "\n",
    "#Define vectors in x\n",
    "x, s = make_blobs(n_samples=20, centers=3, n_features=2)\n",
    "x = np.array(x)\n",
    "\n",
    "#Break if more clusters than x vectors   \n",
    "if k > len(x):\n",
    "      print(\"Error: Number of clusters can not exceed number of x vectors\")"
   ]
  },
  {
   "cell_type": "code",
   "execution_count": 10,
   "metadata": {},
   "outputs": [],
   "source": [
    "#Call k_means\n",
    "#Array error indicates one cluster has been dropped\n",
    "\n",
    "c,z,J_c = k_means(k,x)"
   ]
  },
  {
   "cell_type": "code",
   "execution_count": 11,
   "metadata": {},
   "outputs": [],
   "source": [
    "#Task 2\n",
    "#Visualize k-means algorithm"
   ]
  },
  {
   "cell_type": "code",
   "execution_count": 12,
   "metadata": {},
   "outputs": [],
   "source": [
    "#k-means visualization\n",
    "\n",
    "def visualize(k,x,c,x_dir,y_dir,title):\n",
    "    \n",
    "    #Declare dimensions of plot\n",
    "    x_ = x[:,x_dir]\n",
    "    y = x[:,y_dir]\n",
    "    \n",
    "    #Define colors\n",
    "    cluster_color = ['r' 'b', 'c', 'm', 'g', 'y']\n",
    "        \n",
    "    #Visualize    \n",
    "    for i, assigned_cluster in enumerate(c): \n",
    "        \n",
    "        visual = plt.scatter(x_[i], y[i], c = cluster_color[int(assigned_cluster)], s = 15)  \n",
    "        plt.title(title)        \n",
    "        "
   ]
  },
  {
   "cell_type": "code",
   "execution_count": 13,
   "metadata": {},
   "outputs": [
    {
     "data": {
      "image/png": "[encoded data removed]",
      "text/plain": [
       "<matplotlib.figure.Figure at 0x7f30a7aea198>"
      ]
     },
     "metadata": {
      "needs_background": "light"
     },
     "output_type": "display_data"
    }
   ],
   "source": [
    "#Visualization\n",
    "\n",
    "#Declare dimensions\n",
    "x_dir = 0\n",
    "y_dir = 1\n",
    "\n",
    "#Declare title\n",
    "title = \"Visualization\"\n",
    "\n",
    "visual = visualize(k,x,c,x_dir,y_dir,title)"
   ]
  },
  {
   "cell_type": "code",
   "execution_count": 14,
   "metadata": {},
   "outputs": [
    {
     "data": {
      "image/png": "[encoded data removed]",
      "text/plain": [
       "<matplotlib.figure.Figure at 0x7f30a7ae5f60>"
      ]
     },
     "metadata": {
      "needs_background": "light"
     },
     "output_type": "display_data"
    }
   ],
   "source": [
    "#scikit learn Visualization\n",
    "\n",
    "#Declare dimensions\n",
    "x_dir = 0\n",
    "y_dir = 1\n",
    "\n",
    "#Declare title\n",
    "title = \"scikit learn Visualization\"\n",
    "\n",
    "visualize(k,x,s,x_dir,y_dir,title)"
   ]
  },
  {
   "cell_type": "code",
   "execution_count": 15,
   "metadata": {},
   "outputs": [],
   "source": [
    "#Task 3\n",
    "#Test algorithm and visualization"
   ]
  },
  {
   "cell_type": "code",
   "execution_count": 50,
   "metadata": {},
   "outputs": [
    {
     "name": "stdout",
     "output_type": "stream",
     "text": [
      "The number of clusters is 3\n",
      "\n",
      "Final J_clust value is 2.1979926470198903\n",
      "\n"
     ]
    },
    {
     "data": {
      "image/png": "[encoded data removed]",
      "text/plain": [
       "<matplotlib.figure.Figure at 0x7f30a5319780>"
      ]
     },
     "metadata": {
      "needs_background": "light"
     },
     "output_type": "display_data"
    }
   ],
   "source": [
    "#Test 1\n",
    "\n",
    "#Define number of clusters\n",
    "k = 3\n",
    "print(\"The number of clusters is \" + str(k) + \"\\n\")\n",
    "\n",
    "#Define vectors in x\n",
    "x, s = make_blobs(n_samples=30, centers=3, n_features=2)\n",
    "x = np.array(x)\n",
    "\n",
    "#Break if more clusters than x vectors   \n",
    "if k > len(x):\n",
    "      print(\"Error: Number of clusters can not exceed number of x vectors \\n\")\n",
    "        \n",
    "c,z,J_c = k_means(k,x)\n",
    "print(\"Final J_clust value is \" + str(J_c) + \"\\n\")\n",
    "\n",
    "title = \"Test 1\"\n",
    "\n",
    "visualize(k,x,c,x_dir,y_dir,title)"
   ]
  },
  {
   "cell_type": "code",
   "execution_count": 51,
   "metadata": {},
   "outputs": [
    {
     "name": "stdout",
     "output_type": "stream",
     "text": [
      "The number of clusters is 3\n",
      "\n",
      "Final J_clust value is 14.491173606529022\n",
      "\n"
     ]
    },
    {
     "data": {
      "image/png": "[encoded data removed]",
      "text/plain": [
       "<matplotlib.figure.Figure at 0x7f30a544a208>"
      ]
     },
     "metadata": {
      "needs_background": "light"
     },
     "output_type": "display_data"
    }
   ],
   "source": [
    "#Test 1 scikit learn comparison\n",
    "\n",
    "#Define number of clusters\n",
    "k = 3\n",
    "print(\"The number of clusters is \" + str(k) + \"\\n\")\n",
    "\n",
    "#Break if more clusters than x vectors   \n",
    "if k > len(x):\n",
    "      print(\"Error: Number of clusters can not exceed number of x vectors \\n\")\n",
    "        \n",
    "c,z,J_c = k_means(k,x)\n",
    "print(\"Final J_clust value is \" + str(J_c) + \"\\n\")\n",
    "\n",
    "title = \"Test 1 scikit learn Comparison\"\n",
    "\n",
    "visualize(k,x,s,x_dir,y_dir,title)"
   ]
  },
  {
   "cell_type": "code",
   "execution_count": 52,
   "metadata": {},
   "outputs": [
    {
     "name": "stdout",
     "output_type": "stream",
     "text": [
      "The number of clusters is 4\n",
      "\n",
      "Final J_clust value is 1.7491623999225938\n",
      "\n"
     ]
    },
    {
     "data": {
      "image/png": "[encoded data removed]",
      "text/plain": [
       "<matplotlib.figure.Figure at 0x7f30a53da828>"
      ]
     },
     "metadata": {
      "needs_background": "light"
     },
     "output_type": "display_data"
    }
   ],
   "source": [
    "#Test 1 assume incorrect k\n",
    "\n",
    "#Define number of clusters\n",
    "k = 4\n",
    "print(\"The number of clusters is \" + str(k) + \"\\n\")\n",
    "        \n",
    "c,z,J_c = k_means(k,x)\n",
    "print(\"Final J_clust value is \" + str(J_c) + \"\\n\")\n",
    "\n",
    "title = \"Test 1 Assume Incorrect k\"\n",
    "\n",
    "visualize(k,x,c,x_dir,y_dir,title)"
   ]
  },
  {
   "cell_type": "code",
   "execution_count": 53,
   "metadata": {},
   "outputs": [
    {
     "name": "stdout",
     "output_type": "stream",
     "text": [
      "The number of clusters is 3\n",
      "\n",
      "Final J_clust value is 2.1979926470198903\n",
      "\n"
     ]
    },
    {
     "data": {
      "image/png": "[encoded data removed]",
      "text/plain": [
       "<matplotlib.figure.Figure at 0x7f30a53daf98>"
      ]
     },
     "metadata": {
      "needs_background": "light"
     },
     "output_type": "display_data"
    }
   ],
   "source": [
    "#Test 1 with Second Initialization\n",
    "\n",
    "#Define number of clusters\n",
    "k = 3\n",
    "print(\"The number of clusters is \" + str(k) + \"\\n\")\n",
    "\n",
    "#Break if more clusters than x vectors   \n",
    "if k > len(x):\n",
    "      print(\"Error: Number of clusters can not exceed number of x vectors \\n\")\n",
    "        \n",
    "c,z,J_c = second_k_means(k,x)\n",
    "print(\"Final J_clust value is \" + str(J_c) + \"\\n\")\n",
    "\n",
    "title = \"Test 1 Second Initialization\"\n",
    "\n",
    "visualize(k,x,c,x_dir,y_dir,title)"
   ]
  },
  {
   "cell_type": "markdown",
   "metadata": {},
   "source": [
    "The algorithm was able to find the correct clustering and centroids. Assuming an incorrect k (one unit larger) forced one blob to be separated into two clusters, while keeping the two other blobs the same. Using the second initialization method did not change the clustering."
   ]
  },
  {
   "cell_type": "code",
   "execution_count": 55,
   "metadata": {},
   "outputs": [
    {
     "name": "stdout",
     "output_type": "stream",
     "text": [
      "The number of clusters is 4\n",
      "\n",
      "Final J_clust value is 1.681635962989396\n",
      "\n"
     ]
    },
    {
     "data": {
      "image/png": "[encoded data removed]",
      "text/plain": [
       "<matplotlib.figure.Figure at 0x7f30a576ab00>"
      ]
     },
     "metadata": {
      "needs_background": "light"
     },
     "output_type": "display_data"
    }
   ],
   "source": [
    "#Test 2\n",
    "\n",
    "#Define number of clusters\n",
    "k = 4\n",
    "print(\"The number of clusters is \" + str(k) + \"\\n\")\n",
    "\n",
    "#Define vectors in x\n",
    "x, s = make_blobs(n_samples=40, centers=4, n_features=2)\n",
    "x = np.array(x)\n",
    "\n",
    "#Break if more clusters than x vectors   \n",
    "if k > len(x):\n",
    "      print(\"Error: Number of clusters can not exceed number of x vectors \\n\")\n",
    "        \n",
    "c,z,J_c = k_means(k,x)\n",
    "print(\"Final J_clust value is \" + str(J_c) + \"\\n\")\n",
    "\n",
    "title = \"Test 2\"\n",
    "\n",
    "visualize(k,x,c,x_dir,y_dir,title)"
   ]
  },
  {
   "cell_type": "code",
   "execution_count": 56,
   "metadata": {},
   "outputs": [
    {
     "name": "stdout",
     "output_type": "stream",
     "text": [
      "The number of clusters is 4\n",
      "\n",
      "Final J_clust value is 1.681635962989396\n",
      "\n"
     ]
    },
    {
     "data": {
      "image/png": "[encoded data removed]",
      "text/plain": [
       "<matplotlib.figure.Figure at 0x7f30a59096d8>"
      ]
     },
     "metadata": {
      "needs_background": "light"
     },
     "output_type": "display_data"
    }
   ],
   "source": [
    "#Test 2 scikit learn comparison\n",
    "\n",
    "#Define number of clusters\n",
    "k = 4\n",
    "print(\"The number of clusters is \" + str(k) + \"\\n\")\n",
    "\n",
    "#Break if more clusters than x vectors   \n",
    "if k > len(x):\n",
    "      print(\"Error: Number of clusters can not exceed number of x vectors \\n\")\n",
    "        \n",
    "c,z,J_c = k_means(k,x)\n",
    "print(\"Final J_clust value is \" + str(J_c) + \"\\n\")\n",
    "\n",
    "title = \"Test 2 scikit learn Comparison\"\n",
    "\n",
    "visualize(k,x,s,x_dir,y_dir,title)"
   ]
  },
  {
   "cell_type": "code",
   "execution_count": 57,
   "metadata": {},
   "outputs": [
    {
     "name": "stdout",
     "output_type": "stream",
     "text": [
      "The number of clusters is 3\n",
      "\n",
      "Final J_clust value is 6.71756657417149\n",
      "\n"
     ]
    },
    {
     "data": {
      "image/png": "[encoded data removed]",
      "text/plain": [
       "<matplotlib.figure.Figure at 0x7f30a57f2748>"
      ]
     },
     "metadata": {
      "needs_background": "light"
     },
     "output_type": "display_data"
    }
   ],
   "source": [
    "#Test 2 assume incorrect k\n",
    "\n",
    "#Define number of clusters\n",
    "k = 3\n",
    "print(\"The number of clusters is \" + str(k) + \"\\n\")\n",
    "        \n",
    "c,z,J_c = k_means(k,x)\n",
    "print(\"Final J_clust value is \" + str(J_c) + \"\\n\")\n",
    "\n",
    "title = \"Test 2 Assume Incorrect k\"\n",
    "\n",
    "visualize(k,x,c,x_dir,y_dir,title)"
   ]
  },
  {
   "cell_type": "code",
   "execution_count": 58,
   "metadata": {},
   "outputs": [
    {
     "name": "stdout",
     "output_type": "stream",
     "text": [
      "The number of clusters is 4\n",
      "\n",
      "Final J_clust value is 6.47900313087256\n",
      "\n"
     ]
    },
    {
     "data": {
      "image/png": "[encoded data removed]",
      "text/plain": [
       "<matplotlib.figure.Figure at 0x7f30a5345cc0>"
      ]
     },
     "metadata": {
      "needs_background": "light"
     },
     "output_type": "display_data"
    }
   ],
   "source": [
    "#Test 2 with Second Initialization\n",
    "\n",
    "#Define number of clusters\n",
    "k = 4\n",
    "print(\"The number of clusters is \" + str(k) + \"\\n\")\n",
    "\n",
    "#Break if more clusters than x vectors   \n",
    "if k > len(x):\n",
    "      print(\"Error: Number of clusters can not exceed number of x vectors \\n\")\n",
    "        \n",
    "c,z,J_c = second_k_means(k,x)\n",
    "print(\"Final J_clust value is \" + str(J_c) + \"\\n\")\n",
    "\n",
    "title = \"Test 2 Second Initialization\"\n",
    "\n",
    "visualize(k,x,c,x_dir,y_dir,title)"
   ]
  },
  {
   "cell_type": "markdown",
   "metadata": {},
   "source": [
    "The algorithm was able to find the correct clustering and centroids. Assuming an incorrect k (one unit smaller) forced two blobs to be clustered as one, while keeping the two other blobs the same. Using the second initialization method the result did change, as the blobs were clustered incorrectly."
   ]
  },
  {
   "cell_type": "code",
   "execution_count": 59,
   "metadata": {},
   "outputs": [
    {
     "name": "stdout",
     "output_type": "stream",
     "text": [
      "The number of clusters is 4\n",
      "\n",
      "Final J_clust value is 2.1377150485849574\n",
      "\n"
     ]
    },
    {
     "data": {
      "image/png": "[encoded data removed]",
      "text/plain": [
       "<matplotlib.figure.Figure at 0x7f30a5825c88>"
      ]
     },
     "metadata": {
      "needs_background": "light"
     },
     "output_type": "display_data"
    }
   ],
   "source": [
    "#Test 3\n",
    "\n",
    "#Define number of clusters\n",
    "k = 4\n",
    "print(\"The number of clusters is \" + str(k) + \"\\n\")\n",
    "\n",
    "#Define vectors in x\n",
    "x, s = make_blobs(n_samples=60, centers=4, n_features=2)\n",
    "x = np.array(x)\n",
    "\n",
    "#Break if more clusters than x vectors   \n",
    "if k > len(x):\n",
    "      print(\"Error: Number of clusters can not exceed number of x vectors \\n\")\n",
    "        \n",
    "c,z,J_c = k_means(k,x)\n",
    "print(\"Final J_clust value is \" + str(J_c) + \"\\n\")\n",
    "\n",
    "title = \"Test 3\"\n",
    "\n",
    "visualize(k,x,c,x_dir,y_dir,title)"
   ]
  },
  {
   "cell_type": "code",
   "execution_count": 60,
   "metadata": {},
   "outputs": [
    {
     "name": "stdout",
     "output_type": "stream",
     "text": [
      "The number of clusters is 4\n",
      "\n",
      "Final J_clust value is 5.616201629281319\n",
      "\n"
     ]
    },
    {
     "data": {
      "image/png": "[encoded data removed]",
      "text/plain": [
       "<matplotlib.figure.Figure at 0x7f30a59b4ba8>"
      ]
     },
     "metadata": {
      "needs_background": "light"
     },
     "output_type": "display_data"
    }
   ],
   "source": [
    "#Test 3 scikit learn comparison\n",
    "\n",
    "#Define number of clusters\n",
    "k = 4\n",
    "print(\"The number of clusters is \" + str(k) + \"\\n\")\n",
    "\n",
    "#Break if more clusters than x vectors   \n",
    "if k > len(x):\n",
    "      print(\"Error: Number of clusters can not exceed number of x vectors \\n\")\n",
    "        \n",
    "c,z,J_c = k_means(k,x)\n",
    "print(\"Final J_clust value is \" + str(J_c) + \"\\n\")\n",
    "\n",
    "title = \"Test 3 scikit learn Comparison\"\n",
    "\n",
    "visualize(k,x,s,x_dir,y_dir,title)"
   ]
  },
  {
   "cell_type": "code",
   "execution_count": 62,
   "metadata": {},
   "outputs": [
    {
     "name": "stdout",
     "output_type": "stream",
     "text": [
      "The number of clusters is 5\n",
      "\n",
      "Final J_clust value is 1.83762405955703\n",
      "\n"
     ]
    },
    {
     "data": {
      "image/png": "[encoded data removed]",
      "text/plain": [
       "<matplotlib.figure.Figure at 0x7f30a5872470>"
      ]
     },
     "metadata": {
      "needs_background": "light"
     },
     "output_type": "display_data"
    }
   ],
   "source": [
    "#Test 3 assume incorrect k\n",
    "\n",
    "#Define number of clusters\n",
    "k = 5\n",
    "print(\"The number of clusters is \" + str(k) + \"\\n\")\n",
    "        \n",
    "c,z,J_c = k_means(k,x)\n",
    "print(\"Final J_clust value is \" + str(J_c) + \"\\n\")\n",
    "\n",
    "title = \"Test 3 Assume Incorrect k\"\n",
    "\n",
    "visualize(k,x,c,x_dir,y_dir,title)"
   ]
  },
  {
   "cell_type": "code",
   "execution_count": 63,
   "metadata": {},
   "outputs": [
    {
     "name": "stdout",
     "output_type": "stream",
     "text": [
      "The number of clusters is 4\n",
      "\n",
      "Final J_clust value is 2.1377150485849574\n",
      "\n"
     ]
    },
    {
     "data": {
      "image/png": "[encoded data removed]",
      "text/plain": [
       "<matplotlib.figure.Figure at 0x7f30a51dc7b8>"
      ]
     },
     "metadata": {
      "needs_background": "light"
     },
     "output_type": "display_data"
    }
   ],
   "source": [
    "#Test 3 with Second Initialization\n",
    "\n",
    "#Define number of clusters\n",
    "k = 4\n",
    "print(\"The number of clusters is \" + str(k) + \"\\n\")\n",
    "\n",
    "#Break if more clusters than x vectors   \n",
    "if k > len(x):\n",
    "      print(\"Error: Number of clusters can not exceed number of x vectors \\n\")\n",
    "        \n",
    "c,z,J_c = second_k_means(k,x)\n",
    "print(\"Final J_clust value is \" + str(J_c) + \"\\n\")\n",
    "\n",
    "title = \"Test 3 Second Initialization\"\n",
    "\n",
    "visualize(k,x,c,x_dir,y_dir,title)"
   ]
  },
  {
   "cell_type": "markdown",
   "metadata": {},
   "source": [
    "The algorithm was able to find the correct clustering and centroids. Assuming an incorrect k (one unit larger) forced one blob to be separated into two clusters, while keeping the two other blobs the same. Using the second initialization method did not change the clustering."
   ]
  },
  {
   "cell_type": "code",
   "execution_count": 20,
   "metadata": {},
   "outputs": [],
   "source": [
    "#Task 4\n",
    "#Create an animation of the clustering process"
   ]
  },
  {
   "cell_type": "code",
   "execution_count": null,
   "metadata": {},
   "outputs": [],
   "source": [
    "#The code below facilitated taking images of the clusters during each iteration\n",
    "#The images were then transferred to .gif format\n",
    "\n",
    "'''\n",
    "#Define number of clusters\n",
    "k = 4\n",
    "print(\"The number of clusters is \" + str(k) + \"\\n\")\n",
    "\n",
    "#Define vectors in x\n",
    "x, s = make_blobs(n_samples=700, centers=4, n_features=2)\n",
    "x = np.array(x)\n",
    "\n",
    "z = initialize(x)                                             #Initialize representative vectors\n",
    "    \n",
    "-------------------------------------------------------------------------------------------------    \n",
    "    \n",
    "for i in range(1):                                             #Determine number of iterations algorithm runs\n",
    "    c = cluster_min_distance(x,z)                              #Cluster each x vector with closest z vector\n",
    "    z,cluster_vectors = centroid_representatives(x,z,c)        #Reassign representative vector of each cluster as centroid\n",
    "    J_c = Jclust(cluster_vectors, z, x)                        #Output J_clust value\n",
    "    \n",
    "    #Declare dimensions of plot\n",
    "    x_ = x[:,x_dir]\n",
    "    y = x[:,y_dir]\n",
    "    \n",
    "    #Define colors\n",
    "    cluster_color = ['r' 'b', 'c', 'm', 'g', 'y']\n",
    "        \n",
    "    #Visualize    \n",
    "    for i, assigned_cluster in enumerate(c): \n",
    "        \n",
    "        visual = plt.scatter(x_[i], y[i], c = cluster_color[int(assigned_cluster)], s = 15)  \n",
    "        plt.title(\"Animated k-means\")\n",
    "        \n",
    "    visual.figure.savefig('kmeans.png')\n",
    "    \n",
    "'''"
   ]
  },
  {
   "cell_type": "code",
   "execution_count": 107,
   "metadata": {},
   "outputs": [
    {
     "data": {
      "text/html": [
       "<div style=\"display: flex; justify-content: row;\">\n",
       "    <iframe src=\"https://giphy.com/embed/H7NpBr8qFn7JgS8nbj\" width=\"480\" height=\"320\" frameBorder=\"0\" class=\"giphy-embed\" allowFullScreen></iframe><p><a href=\"https://giphy.com/gifs/H7NpBr8qFn7JgS8nbj\">via GIPHY</a></p>\n",
       "</div>"
      ],
      "text/plain": [
       "<IPython.core.display.HTML object>"
      ]
     },
     "execution_count": 107,
     "metadata": {},
     "output_type": "execute_result"
    }
   ],
   "source": [
    "#Place animation in notebook\n",
    "\n",
    "HTML('''<div style=\"display: flex; justify-content: row;\">\n",
    "    <iframe src=\"https://giphy.com/embed/H7NpBr8qFn7JgS8nbj\" width=\"480\" height=\"320\" frameBorder=\"0\" class=\"giphy-embed\" allowFullScreen></iframe><p><a href=\"https://giphy.com/gifs/H7NpBr8qFn7JgS8nbj\">via GIPHY</a></p>\n",
    "</div>''')"
   ]
  },
  {
   "cell_type": "code",
   "execution_count": 64,
   "metadata": {},
   "outputs": [],
   "source": [
    "#Task 5\n",
    "#Cluster real-world data"
   ]
  },
  {
   "cell_type": "code",
   "execution_count": 98,
   "metadata": {},
   "outputs": [],
   "source": [
    "#Cluster along the dimensions of average avocado price in the United States (regional data) and total volume of avocados sold\n",
    "\n",
    "#Import data\n",
    "avocado = pd.read_csv(\"Avocado_Data.csv\")"
   ]
  },
  {
   "cell_type": "code",
   "execution_count": 99,
   "metadata": {},
   "outputs": [],
   "source": [
    "#Transfer data to np array\n",
    "np_avocado = np.array(avocado)"
   ]
  },
  {
   "cell_type": "code",
   "execution_count": 109,
   "metadata": {},
   "outputs": [],
   "source": [
    "#Define number of clusters\n",
    "k = 2\n",
    "\n",
    "#Run k-means with avocado data\n",
    "c,z,J_c = k_means(k,np_avocado)"
   ]
  },
  {
   "cell_type": "code",
   "execution_count": 110,
   "metadata": {},
   "outputs": [
    {
     "data": {
      "image/png": "[encoded data removed]",
      "text/plain": [
       "<matplotlib.figure.Figure at 0x7f3099af4400>"
      ]
     },
     "metadata": {
      "needs_background": "light"
     },
     "output_type": "display_data"
    }
   ],
   "source": [
    "#Avocado Visualization\n",
    "\n",
    "title = \"Avocado Price & Quantity Clustering\"\n",
    "plt.xlabel(\"Equilibrium Price\")\n",
    "plt.ylabel(\"Quantity Transacted\")\n",
    "\n",
    "visualize(k,np_avocado,c,x_dir,y_dir,title)\n"
   ]
  },
  {
   "cell_type": "code",
   "execution_count": 103,
   "metadata": {},
   "outputs": [],
   "source": [
    "#Trial and Error - too many clusters\n",
    "\n",
    "#Define number of clusters\n",
    "k = 4\n",
    "\n",
    "#Run k-means with avocado data\n",
    "c,z,J_c = k_means(k,np_avocado)"
   ]
  },
  {
   "cell_type": "code",
   "execution_count": 104,
   "metadata": {},
   "outputs": [
    {
     "data": {
      "image/png": "[encoded data removed]",
      "text/plain": [
       "<matplotlib.figure.Figure at 0x7f30995eb5f8>"
      ]
     },
     "metadata": {
      "needs_background": "light"
     },
     "output_type": "display_data"
    }
   ],
   "source": [
    "#Avocado Visualization (too many clusters)\n",
    "\n",
    "title = \"Avocado Price & Quantity Clustering\"\n",
    "plt.xlabel(\"Equilibrium Price\")\n",
    "plt.ylabel(\"Quantity Transacted\")\n",
    "\n",
    "visualize(k,np_avocado,c,x_dir,y_dir,title)"
   ]
  },
  {
   "cell_type": "code",
   "execution_count": 107,
   "metadata": {},
   "outputs": [],
   "source": [
    "#Trial and Error - MacQueen Initialization\n",
    "\n",
    "#Define number of clusters\n",
    "k = 2\n",
    "\n",
    "#Run k-means with avocado data\n",
    "c,z,J_c = second_k_means(k,np_avocado)"
   ]
  },
  {
   "cell_type": "code",
   "execution_count": 108,
   "metadata": {},
   "outputs": [
    {
     "data": {
      "image/png": "[encoded data removed]",
      "text/plain": [
       "<matplotlib.figure.Figure at 0x7f3099ee92b0>"
      ]
     },
     "metadata": {
      "needs_background": "light"
     },
     "output_type": "display_data"
    }
   ],
   "source": [
    "#Avocado Visualization (MacQueen Initialization)\n",
    "\n",
    "title = \"Avocado Price & Quantity Clustering\"\n",
    "plt.xlabel(\"Equilibrium Price\")\n",
    "plt.ylabel(\"Quantity Transacted\")\n",
    "\n",
    "visualize(k,np_avocado,c,x_dir,y_dir,title)"
   ]
  },
  {
   "cell_type": "code",
   "execution_count": null,
   "metadata": {},
   "outputs": [],
   "source": [
    "#The code below facilitated taking images of the clusters during each iteration\n",
    "#The images were then transferred to .gif format\n",
    "\n",
    "'''\n",
    "#Animated Plot\n",
    "\n",
    "#Define number of clusters\n",
    "k = 2\n",
    "\n",
    "np_avocado = np.array(avocado)\n",
    "\n",
    "z = initialize(np_avocado)                                              #Initialize representative vectors\n",
    "\n",
    "--------------------------------------------------------------------------------------------------------\n",
    "\n",
    "for i in range(1):                                                      #Determine number of iterations algorithm runs\n",
    "    c = cluster_min_distance(np_avocado,z)                              #Cluster each x vector with closest z vector\n",
    "    z,cluster_vectors = centroid_representatives(np_avocado,z,c)        #Reassign representative vector of each cluster as centroid\n",
    "    J_c = Jclust(cluster_vectors, z, np_avocado)                        #Output J_clust value\n",
    "    \n",
    "    #Declare dimensions of plot\n",
    "    x_ = np_avocado[:,x_dir]\n",
    "    y = np_avocado[:,y_dir]\n",
    "    \n",
    "    #Define colors\n",
    "    cluster_color = ['r' 'b', 'c', 'm', 'g', 'y']\n",
    "        \n",
    "    #Visualize    \n",
    "    for i, assigned_cluster in enumerate(c): \n",
    "        \n",
    "        visual = plt.scatter(x_[i], y[i], c = cluster_color[int(assigned_cluster)], s = 15)  \n",
    "        plt.title(\"Avocado Price & Quantity Animation\")\n",
    "        plt.xlabel(\"Equilibrium Price\")\n",
    "        plt.ylabel(\"Quantity Transacted\")\n",
    "        \n",
    "    visual.figure.savefig('avocadoplot18.png')\n",
    "    \n",
    "'''"
   ]
  },
  {
   "cell_type": "code",
   "execution_count": 132,
   "metadata": {},
   "outputs": [
    {
     "data": {
      "text/html": [
       "<div style=\"display: flex; justify-content: row;\">\n",
       "    <iframe src=\"https://giphy.com/embed/cP5kK1ugcNHw6Dmhor\" width=\"480\" height=\"320\" frameBorder=\"0\" class=\"giphy-embed\" allowFullScreen></iframe><p><a href=\"https://giphy.com/gifs/cP5kK1ugcNHw6Dmhor\">via GIPHY</a></p>\n",
       "</div>"
      ],
      "text/plain": [
       "<IPython.core.display.HTML object>"
      ]
     },
     "execution_count": 132,
     "metadata": {},
     "output_type": "execute_result"
    }
   ],
   "source": [
    "#Place animation in notebook\n",
    "\n",
    "HTML('''<div style=\"display: flex; justify-content: row;\">\n",
    "    <iframe src=\"https://giphy.com/embed/cP5kK1ugcNHw6Dmhor\" width=\"480\" height=\"320\" frameBorder=\"0\" class=\"giphy-embed\" allowFullScreen></iframe><p><a href=\"https://giphy.com/gifs/cP5kK1ugcNHw6Dmhor\">via GIPHY</a></p>\n",
    "</div>''')"
   ]
  },
  {
   "cell_type": "code",
   "execution_count": 116,
   "metadata": {},
   "outputs": [],
   "source": [
    "#Task 6 - Analysis"
   ]
  },
  {
   "cell_type": "markdown",
   "metadata": {},
   "source": [
    "a. I tried two different inital conditions -- one with the MacQueen initialization and one with a higher number of clusters (4). The MacQueen initialization did not change the final clustering outcome. The higher number of clusters is not optimal, as two clusters fits the dataset more accurately.\n",
    "\n",
    "b. The algorithm took 18 iterations to converge.\n",
    "\n",
    "c. There appears to be a two distinct clusters when looking at the dataset -- one which represents a base level of avocados transacted at varying prices, and one which represents much larger quantities of avocados being transacted. As this is regionally collected data, my intuition is that the cluster with higher levels of avocado transactions represent regions that consume high amounts of avocados, such as Southern California.\n",
    "\n",
    "d. A value of k=2 appears to be reasonable, as there seems to be two distinct clusters.\n",
    "\n",
    "e. As mentioned in c, I believe the two clusters appear because they represent different regions that have different consumption levels of avocados."
   ]
  }
 ],
 "metadata": {
  "kernelspec": {
   "display_name": "Python 3",
   "language": "python",
   "name": "python3"
  },
  "language_info": {
   "codemirror_mode": {
    "name": "ipython",
    "version": 3
   },
   "file_extension": ".py",
   "mimetype": "text/x-python",
   "name": "python",
   "nbconvert_exporter": "python",
   "pygments_lexer": "ipython3",
   "version": "3.7.4"
  }
 },
 "nbformat": 4,
 "nbformat_minor": 4
}
