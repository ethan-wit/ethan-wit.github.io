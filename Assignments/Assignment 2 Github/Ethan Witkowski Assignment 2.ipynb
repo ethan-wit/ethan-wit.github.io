{
 "cells": [
  {
   "cell_type": "markdown",
   "metadata": {},
   "source": [
    "# Assignment 2 - Matrix Manipulation & Linear Systems\n",
    "### Modeling & Optimization\n",
    "### Ethan Witkowski"
   ]
  },
  {
   "cell_type": "markdown",
   "metadata": {},
   "source": [
    "### 6.7)"
   ]
  },
  {
   "cell_type": "markdown",
   "metadata": {},
   "source": [
    "$Y_{i}$ is the total of $i^{th}$ currency held, when all currencies are exchanged for $i$. The $i^{th}$ element in $Y$ represents the amount of money you hold in the $i^{th}$ currency, given you exchange all other currencies for the $i^{th}$ currency. This is shown through $Y = Rx$, where $Y_{i}$ is the exchange rate of currencey $j$ for currency $i$ multiplied by the amount of currency $i$ held, summed across $i$ currencies."
   ]
  },
  {
   "cell_type": "markdown",
   "metadata": {},
   "source": [
    "### 6.8)"
   ]
  },
  {
   "cell_type": "markdown",
   "metadata": {},
   "source": [
    "$A$ starts as an identity matrix, where the elements in each row to the left of the $1$ are $(1+r)^{x}$, $x$ being equal to how many elements moved left from $1$. \n",
    "<br>\n",
    "\n",
    "Example:\n",
    "<br>\n",
    "\n",
    "$A = $\n",
    "$\\left(\\begin{array}{cc} \n",
    "1 & 0 & 0 & 0\\\\ \n",
    "(1+r) & 1 & 0 & 0\\\\\n",
    "(1+r)^{2} & (1+r) & 1 & 0\\\\\n",
    "(1+r)^{3} & (1+r)^{2} & (1+r) & 1\n",
    "\\end{array}\\right)\n",
    "$\n",
    "<br>\n",
    "<br>\n",
    "\n",
    "This is shown through satisfying the $b = (1+r) \\cdot b_{t-1}+c_{t}$ condition, where when multiplying the matrix $A$ by the vector $c_{1}$ for each element in $b$ we sum $c_{t} \\cdot 1$ and $(1+r) \\cdot b_{t-1}$. Lastly, $b_{t-1}(1+r)$ can be found through writing $b_{t-1}$ in terms of $c_{1}$ and multiplying $(1+r)$ through each $c$ term."
   ]
  },
  {
   "cell_type": "markdown",
   "metadata": {},
   "source": [
    "### 6.9)"
   ]
  },
  {
   "cell_type": "markdown",
   "metadata": {},
   "source": [
    "a)\n",
    "<br>\n",
    "\n",
    "$c \\cdot \\overrightarrow{1}$\n",
    "<br>\n",
    "\n",
    "This is because $c$ is a vector for dollars spent on each advertising channel, so $c \\cdot \\overrightarrow{1}$ is the total dollars spent."
   ]
  },
  {
   "cell_type": "markdown",
   "metadata": {},
   "source": [
    "b)\n",
    "<br>\n",
    "\n",
    "$v = Rc$\n",
    "<br>\n",
    "\n",
    "This is because each element in R represents impressions per dollar for each segment for each channel &#150; when multiplied by $c$ you get: $\\cfrac{impressions}{$} \\cdot ({$})$ = impressions for each segment."
   ]
  },
  {
   "cell_type": "markdown",
   "metadata": {},
   "source": [
    "c)\n",
    "<br>\n",
    "\n",
    "$a \\cdot c$ \n",
    "<br>\n",
    "\n",
    "This is because $a$ is a vector for profit per impressions, and $c$ is a vector of impressions, so $\\cfrac{profit}{impressions} \\cdot (impressions)$ = profit."
   ]
  },
  {
   "cell_type": "markdown",
   "metadata": {},
   "source": [
    "d)\n",
    "<br>\n",
    "\n",
    "For the $i_{th}$ row corresponding to market segment 3 in $R$, I would find the $i,j$ that is greatest, and find the channel associated with this $j$ value."
   ]
  },
  {
   "cell_type": "markdown",
   "metadata": {},
   "source": [
    "e)\n",
    "<br>\n",
    "\n",
    "The impressions per dollar spent for channel 5 for the 3rd market segment is very low; the 5th marketing channel is relatively ineffective at producing impressions for the 3rd market segment."
   ]
  },
  {
   "cell_type": "markdown",
   "metadata": {},
   "source": [
    "### 6.10)"
   ]
  },
  {
   "cell_type": "markdown",
   "metadata": {},
   "source": [
    "a)\n",
    "<br>\n",
    "\n",
    "$Y = Rx$\n",
    "<br>\n",
    "\n",
    "This is because for the $i_{th}$ resource we sum the resource per job times units of job, for all the jobs, resulting in the amount of each resource that's needed."
   ]
  },
  {
   "cell_type": "markdown",
   "metadata": {},
   "source": [
    "b)\n",
    "<br>\n",
    "\n",
    "$c = R^{T}p$\n",
    "<br>\n",
    "\n",
    "This is becuase for job $j$ we sum the resource per job times price per resource, which gives us the cost per unit of job type."
   ]
  },
  {
   "cell_type": "markdown",
   "metadata": {},
   "source": [
    "### 7.14)"
   ]
  },
  {
   "cell_type": "markdown",
   "metadata": {},
   "source": [
    "The height of the river is most dependent on the rainfall from 2 and 3 days prior, because the function/vector $g$ has highest values in the 2nd and 3rd indices (indexing from 1). It would take 5 days for a heavy rainfall day's effect on the river height to dissapate because $g$ has a length of 4."
   ]
  },
  {
   "cell_type": "markdown",
   "metadata": {},
   "source": [
    "### 7.15)"
   ]
  },
  {
   "cell_type": "markdown",
   "metadata": {},
   "source": [
    "a)"
   ]
  },
  {
   "cell_type": "markdown",
   "metadata": {},
   "source": [
    "Given:\n",
    "<br>\n",
    "\n",
    "$h*c \\approx e_{i}$\n",
    "<br>\n",
    "\n",
    "$y = c*u$\n",
    "<br>\n",
    "\n",
    "$h*(c*u) = (h*c)*u$\n",
    "<br>\n",
    "\n",
    "We find:\n",
    "<br>\n",
    "\n",
    "$h*(y) = (e_{i})*u$\n",
    "<br>\n",
    "\n",
    "$z = (e_{i})*u$\n",
    "<br>\n",
    "\n",
    "Assuming the equalizer is proficient ($h*c$ is approximately equal to $e_i$), z should be approximately equal to u for each time step."
   ]
  },
  {
   "cell_type": "markdown",
   "metadata": {},
   "source": [
    "b)"
   ]
  },
  {
   "cell_type": "code",
   "execution_count": 30,
   "metadata": {},
   "outputs": [],
   "source": [
    "import numpy as np\n",
    "import matplotlib.pyplot as plt\n",
    "import random as rnd"
   ]
  },
  {
   "cell_type": "code",
   "execution_count": 31,
   "metadata": {},
   "outputs": [],
   "source": [
    "#Generate random -1, 1 array\n",
    "\n",
    "def random_values(output_values, output_length):\n",
    "    \n",
    "    random_signal = np.random.choice(output_values, output_length, replace = True)\n",
    "    \n",
    "    return random_signal"
   ]
  },
  {
   "cell_type": "code",
   "execution_count": 38,
   "metadata": {},
   "outputs": [],
   "source": [
    "#Declare inputs\n",
    "output_values = [-1,1]\n",
    "output_length = 50\n",
    "\n",
    "#Produce signal\n",
    "random_signal = random_values(output_values, output_length)"
   ]
  },
  {
   "cell_type": "code",
   "execution_count": 37,
   "metadata": {},
   "outputs": [],
   "source": [
    "#Channel impulse response\n",
    "c = np.array([1, .7, -.3])\n",
    "\n",
    "#Equalizer\n",
    "h = np.array([.9, -.5, .5, -.4, .3, -.3, .2, -.1])\n",
    "\n",
    "#Receiver signal \n",
    "y = np.convolve(c, random_signal)\n",
    "\n",
    "#Equalized Receiver signal\n",
    "z = np.convolve(h, y)"
   ]
  },
  {
   "cell_type": "code",
   "execution_count": 42,
   "metadata": {},
   "outputs": [
    {
     "data": {
      "image/png": "[encoded data removed]",
      "text/plain": [
       "<Figure size 432x288 with 1 Axes>"
      ]
     },
     "metadata": {
      "needs_background": "light"
     },
     "output_type": "display_data"
    }
   ],
   "source": [
    "#Plot signal, receiver signal, equalized signal\n",
    "\n",
    "plt.figure()\n",
    "\n",
    "#Signal \n",
    "plt.plot(random_signal, label = 'Signal')\n",
    "\n",
    "#Receiver signal\n",
    "plt.plot(y, label = \"Receiver Signal\")\n",
    "\n",
    "#Equalized signal\n",
    "plt.plot(z, label = \"Equalized Signal\")\n",
    "\n",
    "plt.ylabel(\"Signal Magnitude\")\n",
    "plt.xlabel(\"Time\")\n",
    "plt.legend()\n",
    "plt.show()"
   ]
  },
  {
   "cell_type": "markdown",
   "metadata": {},
   "source": [
    "### 8.4)"
   ]
  },
  {
   "cell_type": "markdown",
   "metadata": {},
   "source": [
    "Given:\n",
    "<br>\n",
    "\n",
    "$x =$\n",
    "$\n",
    "\\left(\\begin{array}{cc} \n",
    "1\\\\\n",
    "2\\\\\n",
    "3\\\\\n",
    "4\\\\\n",
    "5\\\\\n",
    "6\\\\\n",
    "7\\\\\n",
    "8\\\\\n",
    "9\n",
    "\\end{array}\\right)\n",
    "=$\n",
    "$\n",
    "\\left(\\begin{array}{cc} \n",
    "1 & 4 & 7\\\\ \n",
    "2 & 5 & 8\\\\\n",
    "3 & 6 & 9\\\\\n",
    "\\end{array}\\right)$"
   ]
  },
  {
   "cell_type": "markdown",
   "metadata": {},
   "source": [
    "a)"
   ]
  },
  {
   "cell_type": "markdown",
   "metadata": {},
   "source": [
    "$y = $\n",
    "$\n",
    "\\left(\\begin{array}{cc} \n",
    "0 & 0 & 1 & 0 & 0 & 0 & 0 & 0 & 0\\\\ \n",
    "0 & 1 & 0 & 0 & 0 & 0 & 0 & 0 & 0\\\\\n",
    "1 & 0 & 0 & 0 & 0 & 0 & 0 & 0 & 0\\\\\n",
    "0 & 0 & 0 & 0 & 0 & 1 & 0 & 0 & 0\\\\\n",
    "0 & 0 & 0 & 0 & 1 & 0 & 0 & 0 & 0\\\\\n",
    "0 & 0 & 0 & 1 & 0 & 0 & 0 & 0 & 0\\\\\n",
    "0 & 0 & 0 & 0 & 0 & 0 & 0 & 0 & 1\\\\\n",
    "0 & 0 & 0 & 0 & 0 & 0 & 0 & 1 & 0\\\\\n",
    "0 & 0 & 0 & 0 & 0 & 0 & 1 & 0 & 0\n",
    "\\end{array}\\right)x\n",
    "$\n",
    "<br>\n",
    "<br>\n",
    "\n",
    "Achieves the matrix:\n",
    "<br>\n",
    "\n",
    "$\n",
    "\\left(\\begin{array}{cc} \n",
    "3 & 6 & 9\\\\ \n",
    "2 & 5 & 8\\\\\n",
    "1 & 4 & 7\\\\\n",
    "\\end{array}\\right)$"
   ]
  },
  {
   "cell_type": "markdown",
   "metadata": {},
   "source": [
    "b)"
   ]
  },
  {
   "cell_type": "markdown",
   "metadata": {},
   "source": [
    "$y = $\n",
    "$\n",
    "\\left(\\begin{array}{cc} \n",
    "0 & 0 & 1 & 0 & 0 & 0 & 0 & 0 & 0\\\\ \n",
    "0 & 0 & 0 & 0 & 0 & 1 & 0 & 0 & 0\\\\\n",
    "0 & 0 & 0 & 0 & 0 & 0 & 0 & 0 & 1\\\\\n",
    "0 & 1 & 0 & 0 & 0 & 0 & 0 & 0 & 0\\\\\n",
    "0 & 0 & 0 & 0 & 1 & 0 & 0 & 0 & 0\\\\\n",
    "0 & 0 & 0 & 0 & 0 & 0 & 0 & 1 & 0\\\\\n",
    "1 & 0 & 0 & 0 & 0 & 0 & 0 & 0 & 0\\\\\n",
    "0 & 0 & 0 & 1 & 0 & 0 & 0 & 0 & 0\\\\\n",
    "0 & 0 & 0 & 0 & 0 & 0 & 1 & 0 & 0\n",
    "\\end{array}\\right) x$\n",
    "<br>\n",
    "<br>\n",
    "\n",
    "Achieves the matrix:\n",
    "<br>\n",
    "\n",
    "$\n",
    "\\left(\\begin{array}{cc} \n",
    "3 & 2 & 1\\\\ \n",
    "6 & 5 & 4\\\\\n",
    "9 & 8 & 7\\\\\n",
    "\\end{array}\\right)$"
   ]
  },
  {
   "cell_type": "markdown",
   "metadata": {},
   "source": [
    "c)"
   ]
  },
  {
   "cell_type": "markdown",
   "metadata": {},
   "source": [
    "$y = $\n",
    "$\n",
    "\\left(\\begin{array}{cc} \n",
    "0 & 0 & 0 & 0 & 0 & 0 & 0 & 0 & 0\\\\ \n",
    "0 & 0 & 0 & 0 & 0 & 0 & 0 & 0 & 0\\\\\n",
    "0 & 0 & 0 & 0 & 0 & 0 & 0 & 0 & 0\\\\\n",
    "0 & 1 & 0 & 0 & 0 & 0 & 0 & 0 & 0\\\\\n",
    "0 & 0 & 1 & 0 & 0 & 0 & 0 & 0 & 0\\\\\n",
    "0 & 0 & 0 & 0 & 0 & 0 & 0 & 0 & 0\\\\\n",
    "0 & 0 & 0 & 0 & 1 & 0 & 0 & 0 & 0\\\\\n",
    "0 & 0 & 0 & 0 & 0 & 1 & 0 & 0 & 0\\\\\n",
    "0 & 0 & 0 & 0 & 0 & 0 & 0 & 0 & 0\n",
    "\\end{array}\\right) x$\n",
    "<br>\n",
    "<br>\n",
    "\n",
    "Achieves the matrix:\n",
    "<br>\n",
    "\n",
    "$\n",
    "\\left(\\begin{array}{cc} \n",
    "0 & 2 & 5\\\\ \n",
    "0 & 3 & 6\\\\\n",
    "0 & 0 & 0\\\\\n",
    "\\end{array}\\right)$"
   ]
  },
  {
   "cell_type": "markdown",
   "metadata": {},
   "source": [
    "d)"
   ]
  },
  {
   "cell_type": "markdown",
   "metadata": {},
   "source": [
    "$y = $\n",
    "$\n",
    "\\left(\\begin{array}{cc} \n",
    "0 & \\cfrac{1}{2} & 0 & \\cfrac{1}{2} & 0 & 0 & 0 & 0 & 0\\\\ \n",
    "\\cfrac{1}{3} & 0 & \\cfrac{1}{3} & 0 & \\cfrac{1}{3} & 0 & 0 & 0 & 0\\\\\n",
    "0 & \\cfrac{1}{2} & 0 & 0 & 0 & \\cfrac{1}{2} & 0 & 0 & 0\\\\\n",
    "\\cfrac{1}{3} & 0 & 0 & 0 & \\cfrac{1}{3} & 0 & \\cfrac{1}{3} & 0 & 0\\\\\n",
    "0 & \\cfrac{1}{4} & 0 & \\cfrac{1}{4} & 0 & \\cfrac{1}{4} & 0 & \\cfrac{1}{4} & 0\\\\\n",
    "0 & 0 & \\cfrac{1}{3} & 0 & \\cfrac{1}{3} & 0 & 0 & 0 & \\cfrac{1}{3}\\\\\n",
    "0 & 0 & 0 & \\cfrac{1}{2} & 0 & 0 & 0 & \\cfrac{1}{2} & 0\\\\\n",
    "0 & 0 & 0 & 0 & \\cfrac{1}{3} & 0 & \\cfrac{1}{3} & 0 & \\cfrac{1}{3}\\\\\n",
    "0 & 0 & 0 & 0 & 0 & \\cfrac{1}{2} & 0 & \\cfrac{1}{2} & 0\n",
    "\\end{array}\\right) x$\n",
    "<br>\n",
    "<br>\n",
    "\n",
    "Achieves each value to be the average of its neighbors. The fraction used is chosen based on how many qualified neighbors the value has (2, 3, or 4)."
   ]
  },
  {
   "cell_type": "markdown",
   "metadata": {},
   "source": [
    "### 8.16)"
   ]
  },
  {
   "cell_type": "markdown",
   "metadata": {},
   "source": [
    "$A\\theta = b$\n",
    "<br>\n",
    "\n",
    "$\n",
    "\\left(\\begin{array}{cc} \n",
    "1 & x_{1} & y_{1} & x_{1}y_{1}\\\\ \n",
    "1 & x_{1} & y_{2} & x_{1}y_{2}\\\\\n",
    "1 & x_{2} & y_{1} & x_{2}y_{1}\\\\\n",
    "1 & x_{2} & y_{2} & x_{2}y_{2}\n",
    "\\end{array}\\right)\n",
    "$\n",
    "$\n",
    "\\left(\\begin{array}{cc} \n",
    "\\theta_{1}\\\\ \n",
    "\\theta_{2}\\\\\n",
    "\\theta_{3}\\\\\n",
    "\\theta_{4}\n",
    "\\end{array}\\right)=\n",
    "$\n",
    "$\n",
    "\\left(\\begin{array}{cc} \n",
    "F_{11}\\\\ \n",
    "F_{12}\\\\\n",
    "F_{21}\\\\\n",
    "F_{22}\n",
    "\\end{array}\\right)\n",
    "$"
   ]
  },
  {
   "cell_type": "markdown",
   "metadata": {},
   "source": [
    "This A matrix satisfies the necessary conditions because:\n",
    "<br>\n",
    "\n",
    "$\n",
    "\\left(\\begin{array}{cc} \n",
    "\\theta_{1} + \\theta_{2}x_{1} + \\theta_{3}y_{1} + \\theta_{4}x_{1}y_{1}\\\\ \n",
    "\\theta_{1} + \\theta_{2}x_{1} + \\theta_{3}y_{2} + \\theta_{4}x_{1}y_{2}\\\\\n",
    "\\theta_{1} + \\theta_{2}x_{2} + \\theta_{3}y_{1} + \\theta_{4}x_{2}y_{1}\\\\\n",
    "\\theta_{1} + \\theta_{2}x_{2} + \\theta_{3}y_{2} + \\theta_{4}x_{2}y_{2}\n",
    "\\end{array}\\right)=\n",
    "$\n",
    "$\n",
    "\\left(\\begin{array}{cc} \n",
    "F_{11}\\\\ \n",
    "F_{12}\\\\\n",
    "F_{21}\\\\\n",
    "F_{22}\n",
    "\\end{array}\\right)\n",
    "$"
   ]
  }
 ],
 "metadata": {
  "kernelspec": {
   "display_name": "Python 3",
   "language": "python",
   "name": "python3"
  },
  "language_info": {
   "codemirror_mode": {
    "name": "ipython",
    "version": 3
   },
   "file_extension": ".py",
   "mimetype": "text/x-python",
   "name": "python",
   "nbconvert_exporter": "python",
   "pygments_lexer": "ipython3",
   "version": "3.7.4"
  }
 },
 "nbformat": 4,
 "nbformat_minor": 4
}
