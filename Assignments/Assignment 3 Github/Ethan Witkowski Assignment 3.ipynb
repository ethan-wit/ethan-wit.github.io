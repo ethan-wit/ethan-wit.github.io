{
 "cells": [
  {
   "cell_type": "markdown",
   "metadata": {},
   "source": [
    "# Assignment 3 - Linear Dynamical Systems & Matrix Manipulation\n",
    "### Modeling & Optimization\n",
    "### Ethan Witkowski"
   ]
  },
  {
   "cell_type": "markdown",
   "metadata": {},
   "source": [
    "## Problem 1"
   ]
  },
  {
   "cell_type": "markdown",
   "metadata": {},
   "source": [
    "### a)\n",
    "\n",
    "$x_{t+1} = A_{t}x_{t}$\n",
    "\n",
    "$A_{t} = $\n",
    "$ \\left(\\begin{array}{cc} \n",
    ".90 & 0 & .05\\\\ \n",
    ".10 & .95 & 0\\\\\n",
    "0 & 0.05 & .90\n",
    "\\end{array}\\right)\n",
    "$"
   ]
  },
  {
   "cell_type": "markdown",
   "metadata": {},
   "source": [
    "### b)"
   ]
  },
  {
   "cell_type": "code",
   "execution_count": 31,
   "metadata": {},
   "outputs": [],
   "source": [
    "#Import libraries\n",
    "import numpy as np\n",
    "import matplotlib.pyplot as plt"
   ]
  },
  {
   "cell_type": "code",
   "execution_count": 46,
   "metadata": {},
   "outputs": [],
   "source": [
    "#Declare A matrix\n",
    "A = np.matrix([[.90, 0, .05], \\\n",
    "                [.10, .95, 0], \\\n",
    "                [0, 0.05, .90]])"
   ]
  },
  {
   "cell_type": "code",
   "execution_count": 47,
   "metadata": {},
   "outputs": [],
   "source": [
    "#Function to iterate x to next state using matrix A\n",
    "\n",
    "def update_x(x_current):\n",
    "    \n",
    "    x_next = A*x_current\n",
    "    \n",
    "    return x_next"
   ]
  },
  {
   "cell_type": "code",
   "execution_count": 48,
   "metadata": {},
   "outputs": [],
   "source": [
    "#Function to iterate x over specified time\n",
    "\n",
    "def comp_sys(time_iter, x_current):\n",
    "    \n",
    "    for iter in range(time_iter):\n",
    "        \n",
    "        #Run update_x using the final element in each x_current column\n",
    "        x_next = update_x(x_current[:,-1])\n",
    "        \n",
    "        #Concatenate most current x-state to x_current\n",
    "        x_current = np.concatenate((x_current, x_next), axis=1)\n",
    "        \n",
    "    x_final = x_current[:,-1]\n",
    "    print(x_final)\n",
    "    \n",
    "    return x_final,x_current"
   ]
  },
  {
   "cell_type": "code",
   "execution_count": 49,
   "metadata": {},
   "outputs": [],
   "source": [
    "#Input initial x-state and final time iteration\n",
    "x_current = np.matrix([[1],\n",
    "                       [0],\n",
    "                       [0]])\n",
    "\n",
    "time_iter = 50"
   ]
  },
  {
   "cell_type": "code",
   "execution_count": 50,
   "metadata": {},
   "outputs": [
    {
     "name": "stdout",
     "output_type": "stream",
     "text": [
      "[[0.10302636]\n",
      " [0.3026031 ]\n",
      " [0.1779073 ]]\n"
     ]
    }
   ],
   "source": [
    "#Simulate compartmental system\n",
    "\n",
    "x_final, x_current = comp_sys(time_iter, x_current)"
   ]
  },
  {
   "cell_type": "markdown",
   "metadata": {},
   "source": [
    "### c)"
   ]
  },
  {
   "cell_type": "code",
   "execution_count": 51,
   "metadata": {},
   "outputs": [
    {
     "data": {
      "text/plain": [
       "<function matplotlib.pyplot.show(*args, **kw)>"
      ]
     },
     "execution_count": 51,
     "metadata": {},
     "output_type": "execute_result"
    },
    {
     "data": {
      "image/png": "[encoded data removed]",
      "text/plain": [
       "<matplotlib.figure.Figure at 0x7ff7d0a7c2e8>"
      ]
     },
     "metadata": {
      "needs_background": "light"
     },
     "output_type": "display_data"
    }
   ],
   "source": [
    "#Plot linear dynamical system\n",
    "\n",
    "plt.figure()\n",
    "for i in range(x_current.shape[0]):\n",
    "    plt.plot(np.transpose(x_current[i,:]), label = i+1)\n",
    "    \n",
    "plt.legend()\n",
    "plt.suptitle('Compartmental System Simulation')\n",
    "\n",
    "plt.show"
   ]
  },
  {
   "cell_type": "markdown",
   "metadata": {},
   "source": [
    "### d)"
   ]
  },
  {
   "cell_type": "code",
   "execution_count": 64,
   "metadata": {},
   "outputs": [],
   "source": [
    "#Function \n",
    "\n",
    "def iter_count(x_current):\n",
    "    \n",
    "    counter = 0\n",
    "    while x_current[0,-1] > .05:\n",
    "        \n",
    "        #Run update_x using the final element in each x_current column\n",
    "        x_next = update_x(x_current[:,-1])\n",
    "        \n",
    "        #Concatenate most current x-state to x_current\n",
    "        x_current = np.concatenate((x_current, x_next), axis=1)\n",
    "        \n",
    "        counter += 1\n",
    "        \n",
    "    x_final = x_current[:,-1]\n",
    "    print(x_final)\n",
    "    \n",
    "    return x_final,x_current,counter"
   ]
  },
  {
   "cell_type": "code",
   "execution_count": 65,
   "metadata": {},
   "outputs": [],
   "source": [
    "#Re-initialize x\n",
    "x_current = np.matrix([[1],\n",
    "                       [0],\n",
    "                       [0]])"
   ]
  },
  {
   "cell_type": "code",
   "execution_count": 66,
   "metadata": {},
   "outputs": [
    {
     "name": "stdout",
     "output_type": "stream",
     "text": [
      "[[0.04937598]\n",
      " [0.14194729]\n",
      " [0.08371693]]\n",
      "It takes 99 iterations for compartment 1 to reach 5% of its original value\n"
     ]
    }
   ],
   "source": [
    "#Call iteration count function\n",
    "\n",
    "x_final,x_current,counter = iter_count(x_current)\n",
    "print('It takes ' + str(counter) + ' iterations for compartment 1 to reach 5% of its original value')"
   ]
  },
  {
   "cell_type": "markdown",
   "metadata": {},
   "source": [
    "### d)"
   ]
  },
  {
   "cell_type": "markdown",
   "metadata": {},
   "source": [
    "## Problem 2"
   ]
  },
  {
   "cell_type": "markdown",
   "metadata": {},
   "source": [
    "### a)"
   ]
  },
  {
   "cell_type": "markdown",
   "metadata": {},
   "source": [
    "$z_{t} = A_{t}z_{t} + c$ <br>\n",
    "$Iz_{t} = A_{t}z_{t} + c$ <br>\n",
    "$Iz_{t} -  A_{t}z_{t}  = c$ \n",
    "<br>\n",
    "\n",
    "$z_{t}(I - A) = c$ \n",
    "<br>\n",
    "\n",
    "\n",
    "$(I - A)^{-1}c = z_{t}$"
   ]
  },
  {
   "cell_type": "markdown",
   "metadata": {},
   "source": [
    "### b)"
   ]
  },
  {
   "cell_type": "code",
   "execution_count": 9,
   "metadata": {},
   "outputs": [],
   "source": [
    "#Function to find equilibrium value z\n",
    "\n",
    "def equil_z(A,c):\n",
    "    \n",
    "    Iden_A = np.identity(len(A))\n",
    "    \n",
    "    #Take inverse of A matrix subtracted from Identity matrix\n",
    "    inv_I_A = np.linalg.inv(Iden_A - A)\n",
    "    \n",
    "    z = inv_I_A.dot(c)\n",
    "    \n",
    "    return z  "
   ]
  },
  {
   "cell_type": "code",
   "execution_count": 10,
   "metadata": {},
   "outputs": [],
   "source": [
    "#Function to iterate x to next state using matrix A and constant c\n",
    "\n",
    "def update_z(z_current):\n",
    "    \n",
    "    z_next = (np.matmul(A,z_current) + c)\n",
    "    \n",
    "    return z_next"
   ]
  },
  {
   "cell_type": "code",
   "execution_count": 11,
   "metadata": {},
   "outputs": [],
   "source": [
    "#Function to iterate z over specified time\n",
    "\n",
    "def equil_test(time_iter, z_current):\n",
    "\n",
    "    #Pre-allocate cumulative z vector\n",
    "    z_track = z_current\n",
    "\n",
    "    for iter in range(time_iter):\n",
    "\n",
    "        #Run update_x using the final element in each x_current column\n",
    "        z_next = update_z(z_current)\n",
    "\n",
    "        #Concatenate most current x-state to x_current\n",
    "        z_track = np.concatenate((z_track, z_next), axis=1)\n",
    "\n",
    "        #Set z_next as z\n",
    "        z_current = z_next\n",
    "\n",
    "    z_final = z_current\n",
    "    print(z_final)\n",
    "\n",
    "    return z_final,z_track"
   ]
  },
  {
   "cell_type": "markdown",
   "metadata": {},
   "source": [
    "#### 1st Test - A,c"
   ]
  },
  {
   "cell_type": "code",
   "execution_count": 12,
   "metadata": {},
   "outputs": [],
   "source": [
    "#Declare A matrix, c offset vector, and number of iterations\n",
    "A = np.array([[2,4],[3,5]])\n",
    "c = np.array([[2],[1]])\n",
    "time_iter = 3"
   ]
  },
  {
   "cell_type": "code",
   "execution_count": 13,
   "metadata": {},
   "outputs": [],
   "source": [
    "#Equilibrium z value\n",
    "z_current = equil_z(A,c)"
   ]
  },
  {
   "cell_type": "code",
   "execution_count": 14,
   "metadata": {},
   "outputs": [
    {
     "name": "stdout",
     "output_type": "stream",
     "text": [
      "[[ 0.5  ]\n",
      " [-0.625]]\n"
     ]
    }
   ],
   "source": [
    "print(z_current)\n",
    "#Checked - the output of equilibrium is correct to the formula"
   ]
  },
  {
   "cell_type": "code",
   "execution_count": 15,
   "metadata": {},
   "outputs": [
    {
     "name": "stdout",
     "output_type": "stream",
     "text": [
      "[[ 0.5  ]\n",
      " [-0.625]]\n"
     ]
    }
   ],
   "source": [
    "#Iterate Equilibrium value (1)\n",
    "\n",
    "#Call function\n",
    "z_final, z_current = equil_test(time_iter, z_current)"
   ]
  },
  {
   "cell_type": "code",
   "execution_count": 16,
   "metadata": {},
   "outputs": [
    {
     "data": {
      "text/plain": [
       "<function matplotlib.pyplot.show(*args, **kw)>"
      ]
     },
     "execution_count": 16,
     "metadata": {},
     "output_type": "execute_result"
    },
    {
     "data": {
      "image/png": "[encoded data removed]",
      "text/plain": [
       "<matplotlib.figure.Figure at 0x7ff7d0c44400>"
      ]
     },
     "metadata": {
      "needs_background": "light"
     },
     "output_type": "display_data"
    }
   ],
   "source": [
    "#Plot\n",
    "\n",
    "plt.figure()\n",
    "for i in range(z_current.shape[0]):\n",
    "    plt.plot(np.transpose(z_current[i,:]), label = i+1)\n",
    "    \n",
    "plt.legend()\n",
    "plt.suptitle('9.3 Equilibrium z vector (1)')\n",
    "\n",
    "plt.show"
   ]
  },
  {
   "cell_type": "markdown",
   "metadata": {},
   "source": [
    "#### 2nd Test - A,c"
   ]
  },
  {
   "cell_type": "code",
   "execution_count": 17,
   "metadata": {},
   "outputs": [],
   "source": [
    "#Declare A matrix, c offset vector, and number of iterations\n",
    "A = np.array([[6,1],[9,20]])\n",
    "c = np.array([[3],[8]])\n",
    "time_iter = 3"
   ]
  },
  {
   "cell_type": "code",
   "execution_count": 18,
   "metadata": {},
   "outputs": [],
   "source": [
    "#Equilibrium z value\n",
    "z_current = equil_z(A,c)"
   ]
  },
  {
   "cell_type": "code",
   "execution_count": 19,
   "metadata": {},
   "outputs": [
    {
     "name": "stdout",
     "output_type": "stream",
     "text": [
      "[[-0.56976744]\n",
      " [-0.15116279]]\n"
     ]
    }
   ],
   "source": [
    "print(z_current)\n",
    "#Checked - the output of equilibrium is correct to the formula"
   ]
  },
  {
   "cell_type": "code",
   "execution_count": 20,
   "metadata": {},
   "outputs": [
    {
     "name": "stdout",
     "output_type": "stream",
     "text": [
      "[[-0.56976744]\n",
      " [-0.15116279]]\n"
     ]
    }
   ],
   "source": [
    "#Iterate Equilibrium value (1)\n",
    "\n",
    "#Call function\n",
    "z_final, z_current = equil_test(time_iter, z_current)"
   ]
  },
  {
   "cell_type": "code",
   "execution_count": 21,
   "metadata": {},
   "outputs": [
    {
     "data": {
      "text/plain": [
       "<function matplotlib.pyplot.show(*args, **kw)>"
      ]
     },
     "execution_count": 21,
     "metadata": {},
     "output_type": "execute_result"
    },
    {
     "data": {
      "image/png": "[encoded data removed]",
      "text/plain": [
       "<matplotlib.figure.Figure at 0x7ff7d0bc24a8>"
      ]
     },
     "metadata": {
      "needs_background": "light"
     },
     "output_type": "display_data"
    }
   ],
   "source": [
    "#Plot\n",
    "\n",
    "plt.figure()\n",
    "for i in range(z_current.shape[0]):\n",
    "    plt.plot(np.transpose(z_current[i,:]), label = i+1)\n",
    "    \n",
    "plt.legend()\n",
    "plt.suptitle('9.3 Equilibrium z vector (2)')\n",
    "\n",
    "plt.show"
   ]
  },
  {
   "cell_type": "markdown",
   "metadata": {},
   "source": [
    "#### 3rd Test, A,c"
   ]
  },
  {
   "cell_type": "code",
   "execution_count": 22,
   "metadata": {},
   "outputs": [],
   "source": [
    "#Declare A matrix, c offset vector, and number of iterations\n",
    "A = np.array([[540,20],[234,90]])\n",
    "c = np.array([[23],[5]])\n",
    "time_iter = 3"
   ]
  },
  {
   "cell_type": "code",
   "execution_count": 23,
   "metadata": {},
   "outputs": [],
   "source": [
    "#Equilibrium z value\n",
    "z_current = equil_z(A,c)"
   ]
  },
  {
   "cell_type": "code",
   "execution_count": 24,
   "metadata": {},
   "outputs": [
    {
     "name": "stdout",
     "output_type": "stream",
     "text": [
      "[[-0.04497471]\n",
      " [ 0.06206833]]\n"
     ]
    }
   ],
   "source": [
    "print(z_current)\n",
    "#Checked - the output of equilibrium is correct to the formula"
   ]
  },
  {
   "cell_type": "code",
   "execution_count": 25,
   "metadata": {},
   "outputs": [
    {
     "name": "stdout",
     "output_type": "stream",
     "text": [
      "[[-0.04497471]\n",
      " [ 0.06206833]]\n"
     ]
    }
   ],
   "source": [
    "#Iterate Equilibrium value (1)\n",
    "\n",
    "#Call function\n",
    "z_final, z_current = equil_test(time_iter, z_current)"
   ]
  },
  {
   "cell_type": "code",
   "execution_count": 26,
   "metadata": {},
   "outputs": [
    {
     "data": {
      "text/plain": [
       "<function matplotlib.pyplot.show(*args, **kw)>"
      ]
     },
     "execution_count": 26,
     "metadata": {},
     "output_type": "execute_result"
    },
    {
     "data": {
      "image/png": "[encoded data removed]",
      "text/plain": [
       "<matplotlib.figure.Figure at 0x7ff7d0b413c8>"
      ]
     },
     "metadata": {
      "needs_background": "light"
     },
     "output_type": "display_data"
    }
   ],
   "source": [
    "#Plot\n",
    "\n",
    "plt.figure()\n",
    "for i in range(z_current.shape[0]):\n",
    "    plt.plot(np.transpose(z_current[i,:]), label = i+1)\n",
    "    \n",
    "plt.legend()\n",
    "plt.suptitle('9.3 Equilibrium z vector (2)')\n",
    "\n",
    "plt.show"
   ]
  },
  {
   "cell_type": "markdown",
   "metadata": {},
   "source": [
    "## Problem 3"
   ]
  },
  {
   "cell_type": "markdown",
   "metadata": {},
   "source": [
    "Given:\n",
    "\n",
    "$x_{t+1} = A_{1}x_{t} + A_{2}x_{t-1}$\n",
    "\n",
    "Reduction to linear dynamical system:\n",
    "\n",
    "$z_{t+1} = $\n",
    "$\\left(\\begin{array}{cc} \n",
    "A_{00}^{1} & A_{01}^{1} & A_{00}^{2} & A_{01}^{2}\\\\ \n",
    "A_{10}^{1} & A_{11}^{1} & A_{10}^{2} & A_{11}^{2}\\\\\n",
    "1 & 0 & 0 & 0\\\\\n",
    "0 & 1 & 0 & 0\n",
    "\\end{array}\\right)\n",
    "$\n",
    "$\\left(\\begin{array}{cc} \n",
    "x_{t}^{0}\\\\\n",
    "x_{t}^{1}\\\\\n",
    "x_{t-1}^{0}\\\\\n",
    "x_{t-1}^{1}\n",
    "\\end{array}\\right)\n",
    "$\n"
   ]
  },
  {
   "cell_type": "markdown",
   "metadata": {},
   "source": [
    "## Problem 4"
   ]
  },
  {
   "cell_type": "markdown",
   "metadata": {},
   "source": [
    "### 10.6)"
   ]
  },
  {
   "cell_type": "markdown",
   "metadata": {},
   "source": [
    "$A = $\n",
    "$\\left(\\begin{array}{cc} \n",
    "\\cos\\theta & -\\sin\\theta\\\\\n",
    "\\sin\\theta & \\cos\\theta\n",
    "\\end{array}\\right)\n",
    "$\n",
    "\n",
    "$B = $\n",
    "$\\left(\\begin{array}{cc} \n",
    "\\cos\\omega & -\\sin\\omega\\\\\n",
    "\\sin\\omega & \\cos\\omega\n",
    "\\end{array}\\right)\n",
    "$\n",
    "\n",
    "$AB =$\n",
    "$\\left(\\begin{array}{cc} \n",
    "(\\cos\\theta \\cos\\omega) + (-\\sin\\theta \\sin\\omega) & (-\\sin\\omega \\cos\\theta) + (-\\sin\\theta \\cos\\omega)\\\\\n",
    "(\\sin\\theta \\cos\\omega) + (\\cos\\theta \\sin\\omega) & (-\\sin\\omega \\sin\\theta) + (\\cos\\theta \\cos\\omega)\n",
    "\\end{array}\\right)\n",
    "$\n",
    "\n",
    "<br>\n",
    "\n",
    "Using Ptolemy's identities:\n",
    "\n",
    "\n",
    "$\\cos(\\alpha + \\beta) = \\cos\\alpha \\cos\\beta - \\sin\\alpha \\sin\\beta$\n",
    "\n",
    "$\\sin(\\alpha + \\beta) = \\sin\\alpha \\cos\\beta + \\cos\\alpha \\sin\\beta$\n",
    "\n",
    "<br>\n",
    "\n",
    "We find:\n",
    "\n",
    "\n",
    "$AB = $\n",
    "$\\left(\\begin{array}{cc} \n",
    "\\cos(\\theta+\\omega) & -\\sin(\\theta+\\omega)\\\\\n",
    "\\sin(\\theta+\\omega) & \\cos(\\theta+\\omega)\n",
    "\\end{array}\\right)\n",
    "$\n",
    "\n",
    "\n",
    "Therefore, AB a rotation matrix, and it will rotate vectors by the angle $\\theta + \\omega$\n",
    "\n",
    "<br>\n",
    "\n",
    "$BA = $\n",
    "$\\left(\\begin{array}{cc} \n",
    "(\\cos\\theta \\cos\\omega) + (-\\sin\\theta \\sin\\omega) & (-\\sin\\omega \\cos\\theta) + (-\\sin\\theta \\cos\\omega)\\\\\n",
    "(\\sin\\theta \\cos\\omega) + (\\cos\\theta \\sin\\omega) & (-\\sin\\omega \\sin\\theta) + (\\cos\\theta \\cos\\omega)\n",
    "\\end{array}\\right)\n",
    "$\n",
    "$ = $\n",
    "$\\left(\\begin{array}{cc} \n",
    "\\cos(\\theta+\\omega) & -\\sin(\\theta+\\omega)\\\\\n",
    "\\sin(\\theta+\\omega) & \\cos(\\theta+\\omega)\n",
    "\\end{array}\\right)\n",
    "$\n",
    "$ = $\n",
    "$ AB$"
   ]
  },
  {
   "cell_type": "markdown",
   "metadata": {},
   "source": [
    "In simple terms, BA = AB because the corresponding elements in A and B contain the same function."
   ]
  },
  {
   "cell_type": "markdown",
   "metadata": {},
   "source": [
    "### 10.10)"
   ]
  },
  {
   "cell_type": "markdown",
   "metadata": {},
   "source": [
    "$D = diag(p)Q$"
   ]
  },
  {
   "cell_type": "markdown",
   "metadata": {},
   "source": [
    "### 10.18)"
   ]
  },
  {
   "cell_type": "markdown",
   "metadata": {},
   "source": [
    "a)\n",
    "<br>\n",
    "\n",
    "$E_{i} = C^{T} \\cdot \\overrightarrow{1}$\n",
    "\n",
    "b)\n",
    "<br>\n",
    "\n"
   ]
  },
  {
   "cell_type": "markdown",
   "metadata": {},
   "source": [
    "$S_{i,j} = C^{T}M$\n"
   ]
  },
  {
   "cell_type": "markdown",
   "metadata": {},
   "source": [
    "### 10.44)"
   ]
  },
  {
   "cell_type": "markdown",
   "metadata": {},
   "source": [
    "a)\n",
    "<br>\n",
    "\n",
    "With dimensions:\n",
    "<br>\n",
    "\n",
    "m=10, n=1000, p=10, q=1000, r=100\n",
    "<br>\n",
    "\n",
    "$E = ABCD$\n",
    "<br>\n",
    "$Flops \\approx nmp + pqm + qrm = (1000 * 10 * 10) + (10 * 1000 * 10) + (1000 * 100 * 10) = (100000 + 100000 + 1000000) = 1,200,000$\n",
    "\n",
    "$E = (AB)(CD)$\n",
    "<br>\n",
    "$Flops \\approx nmp + qrp + pmr = (1000 * 10 * 10) + (1000 * 100 * 10) + (10 * 10 * 100) = (100000 + 1000000 + 10000) = 1,110,000$\n",
    "\n",
    "$E = A(BC)D$\n",
    "<br>\n",
    "$Flops \\approx pnq + nmq + qmr = (10 * 1000 * 1000) + (1000 * 10 * 1000) + (1000 * 10 * 100) = (10000000 + 10000000 + 1000000) = 21,000,000$\n",
    "\n",
    "$E = A((BC)D)$\n",
    "<br>\n",
    "$Flops \\approx pnq + qnr + nmr = (10 * 1000 * 1000) + (1000 * 1000 * 100) + (1000 * 10 * 100) = (10000000 + 100000000 + 1000000) = 111,000,000$\n",
    "\n",
    "$E = A(B(CD))$\n",
    "<br>\n",
    "$Flops \\approx qpr + pnr + nmr = (1000 * 10 * 100) + (10 * 1000 * 100) + (1000 * 10 * 100) = (1000000 + 1000000 + 1000000) = 3,000,000$\n",
    "<br>\n",
    "\n",
    "b)\n",
    "<br>\n",
    "\n",
    "The matrix multiplication with least complexity is E = (AB)(CD) with 1,100,000 flops"
   ]
  },
  {
   "cell_type": "markdown",
   "metadata": {},
   "source": [
    "## Problem 5"
   ]
  },
  {
   "cell_type": "markdown",
   "metadata": {},
   "source": [
    "Given: $\\|I\\| = n$\n",
    "<br>\n",
    "\n",
    "$I = AA^{-1}$\n",
    "<br>\n",
    "\n",
    "$\\|I\\| = \\|A\\|\\|A^{-1}\\|$\n",
    "<br>\n",
    "\n",
    "$n = \\|A\\|\\|A^{-1}\\|$\n",
    "<br>\n",
    "\n",
    "$\\|A^{-1}\\| = \\cfrac{n}{\\|A\\|}$\n",
    "<br>\n",
    "\n",
    "Therefore:\n",
    "<br>\n",
    "\n",
    "$\\|A^{-1}\\| \\geq  \\cfrac{\\sqrt{n}}{\\|A\\|}$\n",
    "<br>\n"
   ]
  },
  {
   "cell_type": "markdown",
   "metadata": {},
   "source": [
    "## Problem 6"
   ]
  },
  {
   "cell_type": "markdown",
   "metadata": {},
   "source": [
    "### 12.4)"
   ]
  },
  {
   "cell_type": "markdown",
   "metadata": {},
   "source": [
    "a)\n",
    "<br>\n",
    "\n",
    "$B_{m \\times n} = D_{m \\times m}A_{m \\times n}$\n",
    "<br>\n",
    "\n",
    "$(Bx)_{n \\times 1} = B_{m \\times n}x_{n \\times 1}$\n",
    "<br>\n",
    "\n",
    "$d_{n \\times 1} = D_{m \\times m}b_{n \\times 1}$\n",
    "<br>\n",
    "\n",
    "$f(x) = \\|(Bx - d)_{n \\times 1}\\|^{2}$\n",
    "<br>\n",
    "\n",
    "$\\nabla f(\\hat{x})_{n \\times 1} = 2(Bx - d)^{T}B = 0$\n",
    "<br>\n",
    "\n",
    "$\\hat{x} = (B^{T}B)^{-1}B^{T}d$\n",
    "<br>\n",
    "\n",
    "b)\n",
    "<br>\n",
    "\n",
    "A matrix contains linearly independent columns if no column can be represented as a linear combination of the others. Assuming \n",
    "$A$ is linearly independent, a multiplication by a diagonal matrix ($DA$) will not change the status of the linear independence \n",
    "of the resultant matrix's columns -- this is because each row/column will just be multiplied by a scalar.\n",
    "<br>\n",
    "\n",
    "c)\n",
    "<br>\n",
    "\n",
    "Substituting $W = D$ from part a), \n",
    "<br>\n",
    "\n",
    "$\\hat{x} = (B^{T}B)^{-1}B^{T}d$"
   ]
  },
  {
   "cell_type": "markdown",
   "metadata": {},
   "source": [
    "### 12.5)"
   ]
  },
  {
   "cell_type": "markdown",
   "metadata": {},
   "source": [
    "Given: $A^{\\dagger} = (A^{T}A)^{-1}A^{T}$\n",
    "<br>\n",
    "\n",
    "$AX = I$\n",
    "<br>\n",
    "\n",
    "$AX - I = R$\n",
    "<br>\n",
    "\n",
    "Minimize: $\\|AX - I\\|^{2}$\n",
    "<br>\n",
    "\n",
    "$f(x) = \\|AX - I\\|^{2}$\n",
    "<br>\n",
    "\n",
    "$\\nabla f(x) = 2(AX - I)^{T}A$\n",
    "<br>\n",
    "\n",
    "$(A\\hat{X} - I)^{T}A = 0$\n",
    "<br>\n",
    "\n",
    "$A^{T}(A\\hat{X} - I) = 0$\n",
    "<br>\n",
    "\n",
    "$A^{T}A\\hat{X} - A^{T}I = 0 = A^{T}A\\hat{X} - A^{T}$\n",
    "<br>\n",
    "\n",
    "$A^{T}A\\hat{X} = A^{T}$\n",
    "<br>\n",
    "\n",
    "$X = (A^{T}A)^{-1}A^{T} = A^{\\dagger}$"
   ]
  }
 ],
 "metadata": {
  "kernelspec": {
   "display_name": "Python 3",
   "language": "python",
   "name": "python3"
  },
  "language_info": {
   "codemirror_mode": {
    "name": "ipython",
    "version": 3
   },
   "file_extension": ".py",
   "mimetype": "text/x-python",
   "name": "python",
   "nbconvert_exporter": "python",
   "pygments_lexer": "ipython3",
   "version": "3.7.4"
  }
 },
 "nbformat": 4,
 "nbformat_minor": 4
}
